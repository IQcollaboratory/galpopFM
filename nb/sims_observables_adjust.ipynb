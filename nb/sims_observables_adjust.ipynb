{
 "cells": [
  {
   "cell_type": "markdown",
   "metadata": {},
   "source": [
    "Notebook exploring different observables and how they vary for different dust models of increasing complexity\n",
    "\n",
    "\n",
    "**Notes**\n",
    "- Balmer ratio abandoned as observable because of general instability and replaced with $g-r$ color"
   ]
  },
  {
   "cell_type": "code",
   "execution_count": 1,
   "metadata": {},
   "outputs": [],
   "source": [
    "import os \n",
    "import h5py\n",
    "import numpy as np \n",
    "import corner as DFM \n",
    "# -- galpopfm --\n",
    "from galpopfm import dustfm as dustFM\n",
    "from galpopfm import dust_infer as dustInfer\n",
    "from galpopfm import measure_obs as measureObs\n",
    "# -- plotting -- \n",
    "import matplotlib as mpl\n",
    "import matplotlib.pyplot as plt \n",
    "mpl.rcParams['text.usetex'] = True\n",
    "mpl.rcParams['font.family'] = 'serif'\n",
    "mpl.rcParams['axes.linewidth'] = 1.5\n",
    "mpl.rcParams['axes.xmargin'] = 1\n",
    "mpl.rcParams['xtick.labelsize'] = 'x-large'\n",
    "mpl.rcParams['xtick.major.size'] = 5\n",
    "mpl.rcParams['xtick.major.width'] = 1.5\n",
    "mpl.rcParams['ytick.labelsize'] = 'x-large'\n",
    "mpl.rcParams['ytick.major.size'] = 5\n",
    "mpl.rcParams['ytick.major.width'] = 1.5\n",
    "mpl.rcParams['legend.frameon'] = False"
   ]
  },
  {
   "cell_type": "code",
   "execution_count": 2,
   "metadata": {},
   "outputs": [],
   "source": [
    "dat_dir = os.environ['GALPOPFM_DIR']"
   ]
  },
  {
   "cell_type": "code",
   "execution_count": 3,
   "metadata": {},
   "outputs": [],
   "source": [
    "# don't touch these values!\n",
    "nbins = [8, 10, 11]\n",
    "ranges = [(20, 24), (-0.5, 2.), (-2, 9.)]\n",
    "dRmag   = 0.5 \n",
    "dGR     = 0.25\n",
    "dfuvnuv = 1."
   ]
  },
  {
   "cell_type": "code",
   "execution_count": 4,
   "metadata": {},
   "outputs": [
    {
     "name": "stdout",
     "output_type": "stream",
     "text": [
      "-2.219882 < balmer < 2.707833\n",
      "0.280000 < G - R < 1.430000\n",
      "-8.913282 < FUV-NUV < 26.203045\n",
      "0.010707 < z_sdss < 0.033390\n"
     ]
    }
   ],
   "source": [
    "# read in SDSS observables \n",
    "fsdss = os.path.join(dat_dir, 'obs', 'tinker_SDSS_centrals_M9.7.valueadd.hdf5') \n",
    "sdss = h5py.File(fsdss, 'r') \n",
    "\n",
    "mr_complete = (sdss['mr_tinker'][...] < -20.) \n",
    "\n",
    "z_sdss = sdss['redshift_tinker'][...][mr_complete]/299792.458\n",
    "\n",
    "Fmag    = sdss['ABSMAG'][...][:,0][mr_complete]\n",
    "Nmag    = sdss['ABSMAG'][...][:,1][mr_complete]\n",
    "Rmag    = sdss['mr_tinker'][...][mr_complete]\n",
    "Gmag    = sdss['mg_tinker'][...][mr_complete]\n",
    "Haflux  = sdss['HAFLUX'][...][mr_complete]\n",
    "Hbflux  = sdss['HBFLUX'][...][mr_complete]\n",
    "\n",
    "FUV_NUV =  Fmag - Nmag\n",
    "G_R = Gmag - Rmag\n",
    "\n",
    "balmer_ratio = Haflux / Hbflux\n",
    "balmer = np.log10(balmer_ratio/2.86)\n",
    "print('%f < balmer < %f' % (balmer[~np.isnan(balmer)].min(), balmer[~np.isnan(balmer)].max()))\n",
    "print('%f < G - R < %f' % (G_R.min(), G_R.max()))\n",
    "print('%f < FUV-NUV < %f' % (FUV_NUV.min(), FUV_NUV.max()))\n",
    "\n",
    "zmax = z_sdss.max()\n",
    "zmin = z_sdss.min() \n",
    "print('%f < z_sdss < %f' % (zmin, zmax))\n",
    "\n",
    "from astropy.cosmology import Planck13 as cosmo\n",
    "vol_sdss = (cosmo.comoving_volume(zmax).value - cosmo.comoving_volume(zmin).value) * (7966./41253.) * cosmo.h**3 # (Mpc/h)^3"
   ]
  },
  {
   "cell_type": "code",
   "execution_count": 5,
   "metadata": {},
   "outputs": [],
   "source": [
    "#data_vector = np.array([-1.*Rmag, balmer, FUV_NUV]).T\n",
    "data_vector = np.array([-1.*Rmag, G_R, FUV_NUV]).T\n",
    "\n",
    "Nbins, edges = np.histogramdd(data_vector, bins=nbins, range=ranges)\n",
    "x_obs = Nbins.astype(float) / vol_sdss / dRmag / dGR / dfuvnuv\n",
    "Rmag_edges = edges[0] \n",
    "GR_edges = edges[1]\n",
    "fuvnuv_edges = edges[2]"
   ]
  },
  {
   "cell_type": "markdown",
   "metadata": {},
   "source": [
    "read in SIMBA and TNG SEDs"
   ]
  },
  {
   "cell_type": "code",
   "execution_count": 6,
   "metadata": {},
   "outputs": [],
   "source": [
    "# read in SIMBA\n",
    "_sim_sed = dustInfer._read_sed('simba') \n",
    "wlim = (_sim_sed['wave'] > 1e3) & (_sim_sed['wave'] < 8e3) \n",
    "downsample = np.zeros(len(_sim_sed['logmstar'])).astype(bool)\n",
    "downsample[::10] = True\n",
    "f_downsample = 0.1\n",
    "\n",
    "cens = _sim_sed['censat'].astype(bool) & (_sim_sed['logmstar'] > 9.4) & downsample\n",
    "\n",
    "sim_sed = {} \n",
    "sim_sed['sim']          = 'simba'\n",
    "sim_sed['logmstar']     = _sim_sed['logmstar'][cens].copy()\n",
    "sim_sed['logsfr.100']   = _sim_sed['logsfr.100'][cens].copy() \n",
    "sim_sed['wave']         = _sim_sed['wave'][wlim].copy()\n",
    "sim_sed['sed']    = _sim_sed['sed_neb'][cens,:][:,wlim].copy() \n",
    "sim_sed['sed_noneb']    = _sim_sed['sed_noneb'][cens,:][:,wlim].copy() \n",
    "sim_sed['sed_onlyneb']    = _sim_sed['sed_onlyneb'][cens,:][:,wlim].copy() \n",
    "\n",
    "# read in TNG\n",
    "_tng_sed = dustInfer._read_sed('tng') \n",
    "wlim = (_tng_sed['wave'] > 1e3) & (_tng_sed['wave'] < 8e3) \n",
    "downsample = np.zeros(len(_tng_sed['logmstar'])).astype(bool)\n",
    "downsample[::10] = True\n",
    "\n",
    "cens = _tng_sed['censat'].astype(bool) & (_tng_sed['logmstar'] > 9.4) & downsample\n",
    "\n",
    "tng_sed = {} \n",
    "tng_sed['sim']          = 'tng'\n",
    "tng_sed['logmstar']     = _tng_sed['logmstar'][cens].copy()\n",
    "tng_sed['logsfr.100']   = _tng_sed['logsfr.100'][cens].copy() \n",
    "tng_sed['wave']         = _tng_sed['wave'][wlim].copy()\n",
    "tng_sed['sed']    = _tng_sed['sed_neb'][cens,:][:,wlim].copy() \n",
    "tng_sed['sed_noneb']    = _tng_sed['sed_noneb'][cens,:][:,wlim].copy() \n",
    "tng_sed['sed_onlyneb']    = _tng_sed['sed_onlyneb'][cens,:][:,wlim].copy() "
   ]
  },
  {
   "cell_type": "code",
   "execution_count": 7,
   "metadata": {},
   "outputs": [],
   "source": [
    "def sim_observables_AV(A_V, sim='simba'): \n",
    "    '''\n",
    "    '''\n",
    "    if sim == 'simba': \n",
    "        sed = sim_sed.copy()\n",
    "    elif sim == 'tng': \n",
    "        sed = tng_sed.copy()\n",
    "        \n",
    "    T_lam = 10.0**(-0.4 * A_V * dustFM.calzetti_absorption(sed['wave']))\n",
    "    sed_dusty = sed['sed'] * T_lam\n",
    "\n",
    "    # observational measurements \n",
    "    F_mag = measureObs.AbsMag_sed(sim_sed['wave'], sed_dusty, band='galex_fuv') \n",
    "    N_mag = measureObs.AbsMag_sed(sim_sed['wave'], sed_dusty, band='galex_nuv') \n",
    "    R_mag = measureObs.AbsMag_sed(sim_sed['wave'], sed_dusty, band='r_sdss') \n",
    "    G_mag = measureObs.AbsMag_sed(sim_sed['wave'], sed_dusty, band='g_sdss') \n",
    "    FUV_NUV = F_mag - N_mag \n",
    "    print('%f < FUV_NUV < %f' % (FUV_NUV.min(), FUV_NUV.max()))\n",
    "    \n",
    "    G_R = G_mag - R_mag\n",
    "    print('%f < G-R < %f' % (G_R.min(), G_R.max()))\n",
    "\n",
    "    data_vector = np.array([-1.*R_mag, G_R, FUV_NUV]).T\n",
    "    Nbins, _ = np.histogramdd(data_vector, bins=nbins, range=ranges)\n",
    "    \n",
    "    # volume of simulation \n",
    "    vol = {'simba': 100.**3, 'tng': 75.**3}[sim]  \n",
    "\n",
    "    x_model = Nbins.astype(float) / vol / dRmag / dGR / dfuvnuv\n",
    "    return x_model"
   ]
  },
  {
   "cell_type": "markdown",
   "metadata": {},
   "source": [
    "Try directly changing A_V"
   ]
  },
  {
   "cell_type": "code",
   "execution_count": 8,
   "metadata": {},
   "outputs": [
    {
     "name": "stdout",
     "output_type": "stream",
     "text": [
      "-0.084457 < FUV_NUV < 3.778920\n",
      "-0.032477 < G-R < 0.782425\n",
      "0.324640 < FUV_NUV < 4.224691\n",
      "0.213087 < G-R < 1.009106\n",
      "0.739199 < FUV_NUV < 4.671816\n",
      "0.455235 < G-R < 1.233114\n"
     ]
    },
    {
     "data": {
      "image/png": "[encoded data removed]",
      "text/plain": [
       "<Figure size 1080x720 with 8 Axes>"
      ]
     },
     "metadata": {
      "needs_background": "light"
     },
     "output_type": "display_data"
    }
   ],
   "source": [
    "avs = [0., 1., 2.]\n",
    "fig = plt.figure(figsize=(15,10))\n",
    "\n",
    "sub = fig.add_subplot(241)\n",
    "sub.pcolormesh(Rmag_edges, GR_edges, 0.5 * np.sum(x_obs, axis=2).T,\n",
    "        vmin=1e-5, vmax=1e-2, norm=mpl.colors.LogNorm(), cmap='Greys')\n",
    "sub.text(0.95, 0.95, r'SDSS', ha='right', va='top', transform=sub.transAxes, fontsize=25)\n",
    "sub.set_xlim(20., 23) \n",
    "sub.set_xticks([20., 21., 22., 23]) \n",
    "sub.set_ylabel(r'$g - r$', fontsize=20) \n",
    "#sub.set_ylabel(r'$\\log (H_\\alpha/H_\\beta)/(H_\\alpha/H_\\beta)_I$', fontsize=20) \n",
    "sub.set_ylim(ranges[1]) \n",
    "\n",
    "sub = fig.add_subplot(245)\n",
    "sub.pcolormesh(Rmag_edges, fuvnuv_edges, 0.2 * np.sum(x_obs, axis=1).T,\n",
    "        vmin=1e-5, vmax=1e-2, norm=mpl.colors.LogNorm(), cmap='Greys')\n",
    "sub.set_xlabel(r'$M_r$', fontsize=20) \n",
    "sub.set_xlim(20., 23) \n",
    "sub.set_xticks([20., 21., 22., 23]) \n",
    "sub.set_xticklabels([-20, -21, -22, -23]) \n",
    "sub.set_ylabel(r'$FUV - NUV$', fontsize=20) \n",
    "sub.set_ylim(ranges[2]) \n",
    "\n",
    "for i, av in enumerate(avs):\n",
    "    sub = fig.add_subplot(2,4,i+2)\n",
    "    x_mod = sim_observables_AV(av, sim='simba')\n",
    "    sub.pcolormesh(Rmag_edges, GR_edges, dfuvnuv * np.sum(x_mod, axis=2).T, \n",
    "            vmin=1e-5, vmax=1e-2, norm=mpl.colors.LogNorm(), cmap='Oranges')\n",
    "    sub.text(0.95, 0.95, r'$A_V=%.f$' % av, ha='right', va='top', transform=sub.transAxes, fontsize=25)\n",
    "    sub.set_xlim(20., 23) \n",
    "    sub.set_xticks([20., 21., 22., 23]) \n",
    "    sub.set_xticklabels([])\n",
    "    sub.set_yticklabels([])\n",
    "    sub.set_ylim(ranges[1]) \n",
    "\n",
    "    sub = fig.add_subplot(2,4,i+6)\n",
    "    sub.pcolormesh(Rmag_edges, fuvnuv_edges, 0.2 * np.sum(x_mod, axis=1).T,\n",
    "            vmin=1e-5, vmax=1e-2, norm=mpl.colors.LogNorm(), cmap='Oranges')\n",
    "    sub.set_xlabel(r'$M_r$', fontsize=20) \n",
    "    sub.set_xlim(20., 23) \n",
    "    sub.set_xticks([20., 21., 22., 23]) \n",
    "    sub.set_xticklabels([-20, -21, -22, -23]) \n",
    "    sub.set_ylim(ranges[2]) \n",
    "    sub.set_yticklabels([])"
   ]
  },
  {
   "cell_type": "markdown",
   "metadata": {},
   "source": [
    "Now lets try changing tau_V"
   ]
  },
  {
   "cell_type": "code",
   "execution_count": 9,
   "metadata": {},
   "outputs": [],
   "source": [
    "def sim_observables_tauV(tauV, sim='simba'): \n",
    "    ''' slab model with varying optical depth\n",
    "    '''\n",
    "    if sim == 'simba': \n",
    "        sed = sim_sed.copy()\n",
    "    elif sim == 'tng': \n",
    "        sed = tng_sed.copy()\n",
    "\n",
    "    sed_dusty = dustFM.Attenuate(\n",
    "        np.array([0., tauV, 1.]), \n",
    "        sed['wave'], \n",
    "        sed['sed_noneb'], \n",
    "        sed['sed_onlyneb'], \n",
    "        sed['logmstar'],\n",
    "        sed['logsfr.100'],\n",
    "        dem='slab_calzetti') \n",
    "    \n",
    "    # observational measurements \n",
    "    F_mag = measureObs.AbsMag_sed(sim_sed['wave'], sed_dusty, band='galex_fuv') \n",
    "    N_mag = measureObs.AbsMag_sed(sim_sed['wave'], sed_dusty, band='galex_nuv') \n",
    "    G_mag = measureObs.AbsMag_sed(sim_sed['wave'], sed_dusty, band='g_sdss') \n",
    "    R_mag = measureObs.AbsMag_sed(sim_sed['wave'], sed_dusty, band='r_sdss') \n",
    "    \n",
    "    FUV_NUV = F_mag - N_mag \n",
    "    print('%f < FUV_NUV < %f' % (FUV_NUV.min(), FUV_NUV.max()))\n",
    "    \n",
    "    G_R = G_mag - R_mag\n",
    "    print('%f < G-R < %f' % (G_R.min(), G_R.max()))\n",
    "\n",
    "    data_vector = np.array([-1.*R_mag, G_R, FUV_NUV]).T\n",
    "    Nbins, _ = np.histogramdd(data_vector, bins=nbins, range=ranges)\n",
    "    \n",
    "    # volume of simulation \n",
    "    vol = {'simba': 100.**3, 'tng': 75.**3}[sim]  \n",
    "\n",
    "    x_model = Nbins.astype(float) / vol / dRmag / dGR / dfuvnuv\n",
    "    return x_model"
   ]
  },
  {
   "cell_type": "code",
   "execution_count": 10,
   "metadata": {},
   "outputs": [
    {
     "name": "stdout",
     "output_type": "stream",
     "text": [
      "-0.043798 < FUV_NUV < 3.823428\n",
      "-0.007762 < G-R < 0.805218\n",
      "0.144548 < FUV_NUV < 5.512687\n",
      "0.209736 < G-R < 2.430671\n",
      "0.564243 < FUV_NUV < 6.113761\n",
      "0.446497 < G-R < 2.181169\n"
     ]
    },
    {
     "data": {
      "image/png": "[encoded data removed]",
      "text/plain": [
       "<Figure size 1080x720 with 8 Axes>"
      ]
     },
     "metadata": {
      "needs_background": "light"
     },
     "output_type": "display_data"
    }
   ],
   "source": [
    "tauvs = [0.0, 1., 4.]\n",
    "fig = plt.figure(figsize=(15,10))\n",
    "\n",
    "sub = fig.add_subplot(241)\n",
    "sub.pcolormesh(Rmag_edges, GR_edges, 0.5 * np.sum(x_obs, axis=2).T,\n",
    "        vmin=1e-5, vmax=1e-2, norm=mpl.colors.LogNorm(), cmap='Greys')\n",
    "sub.text(0.95, 0.95, r'SDSS', ha='right', va='top', transform=sub.transAxes, fontsize=25)\n",
    "sub.set_xlim(20., 23) \n",
    "sub.set_xticks([20., 21., 22., 23]) \n",
    "sub.set_xticklabels([])\n",
    "sub.set_ylabel(r'$g - r$', fontsize=20) \n",
    "#sub.set_ylabel(r'$\\log (H_\\alpha/H_\\beta)/(H_\\alpha/H_\\beta)_I$', fontsize=20) \n",
    "sub.set_ylim(ranges[1]) \n",
    "\n",
    "sub = fig.add_subplot(245)\n",
    "sub.pcolormesh(Rmag_edges, fuvnuv_edges, 0.2 * np.sum(x_obs, axis=1).T,\n",
    "        vmin=1e-5, vmax=1e-2, norm=mpl.colors.LogNorm(), cmap='Greys')\n",
    "sub.set_xlabel(r'$M_r$', fontsize=20) \n",
    "sub.set_xlim(20., 23) \n",
    "sub.set_xticks([20., 21., 22., 23]) \n",
    "sub.set_xticklabels([-20, -21, -22, -23]) \n",
    "sub.set_ylabel(r'$FUV - NUV$', fontsize=20) \n",
    "sub.set_ylim(ranges[2]) \n",
    "\n",
    "for i, tauv in enumerate(tauvs):\n",
    "    sub = fig.add_subplot(2,4,i+2)\n",
    "    x_mod = sim_observables_tauV(tauv, sim='simba')\n",
    "    sub.pcolormesh(Rmag_edges, GR_edges, dfuvnuv * np.sum(x_mod, axis=2).T, \n",
    "            vmin=1e-5, vmax=1e-2, norm=mpl.colors.LogNorm(), cmap='Oranges')\n",
    "    sub.text(0.95, 0.95, r'$\\tau_V=%.f$' % tauv, ha='right', va='top', transform=sub.transAxes, fontsize=25)\n",
    "    sub.set_xlim(20., 23) \n",
    "    sub.set_xticks([20., 21., 22., 23]) \n",
    "    sub.set_xticklabels([])\n",
    "    sub.set_yticklabels([])\n",
    "    sub.set_ylim(ranges[1]) \n",
    "\n",
    "    sub = fig.add_subplot(2,4,i+6)\n",
    "    sub.pcolormesh(Rmag_edges, fuvnuv_edges, 0.2 * np.sum(x_mod, axis=1).T,\n",
    "            vmin=1e-5, vmax=1e-2, norm=mpl.colors.LogNorm(), cmap='Oranges')\n",
    "    sub.set_xlabel(r'$M_r$', fontsize=20) \n",
    "    sub.set_xlim(20., 23) \n",
    "    sub.set_xticks([20., 21., 22., 23]) \n",
    "    sub.set_xticklabels([-20, -21, -22, -23]) \n",
    "    sub.set_ylim(ranges[2]) \n",
    "    sub.set_yticklabels([])"
   ]
  },
  {
   "cell_type": "code",
   "execution_count": 11,
   "metadata": {},
   "outputs": [],
   "source": [
    "def sim_observables_tauV_delta(tauV, delta, sim='simba'): \n",
    "    '''\n",
    "    '''\n",
    "    if sim == 'simba': \n",
    "        sed = sim_sed.copy()\n",
    "    elif sim == 'tng': \n",
    "        sed = tng_sed.copy()\n",
    "        \n",
    "    #m_tau c_tau m_delta c_delta m_E c_E fneb\n",
    "    sed_dusty = dustFM.Attenuate(\n",
    "        np.array([0., tauV, 0., delta, 0., 0., 1.]), \n",
    "        sed['wave'], \n",
    "        sed['sed_noneb'], \n",
    "        sed['sed_onlyneb'], \n",
    "        sed['logmstar'],\n",
    "        sed['logsfr.100'],\n",
    "        dem='slab_noll_m') \n",
    "    \n",
    "    # observational measurements \n",
    "    F_mag = measureObs.AbsMag_sed(sim_sed['wave'], sed_dusty, band='galex_fuv') \n",
    "    N_mag = measureObs.AbsMag_sed(sim_sed['wave'], sed_dusty, band='galex_nuv') \n",
    "    G_mag = measureObs.AbsMag_sed(sim_sed['wave'], sed_dusty, band='g_sdss') \n",
    "    R_mag = measureObs.AbsMag_sed(sim_sed['wave'], sed_dusty, band='r_sdss') \n",
    "    \n",
    "    FUV_NUV = F_mag - N_mag \n",
    "    print('%f < FUV_NUV < %f' % (FUV_NUV.min(), FUV_NUV.max()))\n",
    "    \n",
    "    G_R = G_mag - R_mag\n",
    "    print('%f < G-R < %f' % (G_R.min(), G_R.max()))\n",
    "\n",
    "    data_vector = np.array([-1.*R_mag, G_R, FUV_NUV]).T\n",
    "    Nbins, _ = np.histogramdd(data_vector, bins=nbins, range=ranges)\n",
    "    \n",
    "    # volume of simulation \n",
    "    vol = {'simba': 100.**3, 'tng': 75.**3}[sim]  \n",
    "\n",
    "    x_model = Nbins.astype(float) / vol / dRmag / dGR / dfuvnuv\n",
    "    return x_model"
   ]
  },
  {
   "cell_type": "code",
   "execution_count": 12,
   "metadata": {},
   "outputs": [
    {
     "name": "stdout",
     "output_type": "stream",
     "text": [
      "0.128909 < FUV_NUV < 4.833719\n",
      "0.095484 < G-R < 2.228547\n",
      "-0.727145 < FUV_NUV < 3.678808\n",
      "-0.515674 < G-R < 0.668620\n",
      "-0.252740 < FUV_NUV < 3.752803\n",
      "-3.157609 < G-R < 0.463745\n"
     ]
    },
    {
     "data": {
      "image/png": "[encoded data removed]",
      "text/plain": [
       "<Figure size 1080x720 with 8 Axes>"
      ]
     },
     "metadata": {
      "needs_background": "light"
     },
     "output_type": "display_data"
    }
   ],
   "source": [
    "deltas = [0., 2., 4.]\n",
    "fig = plt.figure(figsize=(15,10))\n",
    "\n",
    "sub = fig.add_subplot(241)\n",
    "sub.pcolormesh(Rmag_edges, GR_edges, 0.5 * np.sum(x_obs, axis=2).T,\n",
    "        vmin=1e-5, vmax=1e-2, norm=mpl.colors.LogNorm(), cmap='Greys')\n",
    "sub.text(0.95, 0.95, r'SDSS', ha='right', va='top', transform=sub.transAxes, fontsize=25)\n",
    "sub.set_xlim(20., 23) \n",
    "sub.set_xticks([20., 21., 22., 23]) \n",
    "sub.set_ylabel(r'$g - r$', fontsize=20) \n",
    "#sub.set_ylabel(r'$\\log (H_\\alpha/H_\\beta)/(H_\\alpha/H_\\beta)_I$', fontsize=20) \n",
    "sub.set_ylim(ranges[1]) \n",
    "\n",
    "sub = fig.add_subplot(245)\n",
    "sub.pcolormesh(Rmag_edges, fuvnuv_edges, 0.2 * np.sum(x_obs, axis=1).T,\n",
    "        vmin=1e-5, vmax=1e-2, norm=mpl.colors.LogNorm(), cmap='Greys')\n",
    "sub.set_xlabel(r'$M_r$', fontsize=20) \n",
    "sub.set_xlim(20., 23) \n",
    "sub.set_xticks([20., 21., 22., 23]) \n",
    "sub.set_xticklabels([-20, -21, -22, -23]) \n",
    "sub.set_ylabel(r'$FUV - NUV$', fontsize=20) \n",
    "sub.set_ylim(ranges[2]) \n",
    "\n",
    "for i, delta in enumerate(deltas):\n",
    "    sub = fig.add_subplot(2,4,i+2)\n",
    "    x_mod = sim_observables_tauV_delta(1., delta, sim='simba')\n",
    "    sub.pcolormesh(Rmag_edges, GR_edges, dfuvnuv * np.sum(x_mod, axis=2).T, \n",
    "            vmin=1e-5, vmax=1e-2, norm=mpl.colors.LogNorm(), cmap='Oranges')\n",
    "    sub.text(0.95, 0.95, r'$\\delta=%.f$' % delta, ha='right', va='top', transform=sub.transAxes, fontsize=25)\n",
    "    sub.set_xlim(20., 23) \n",
    "    sub.set_xticks([20., 21., 22., 23]) \n",
    "    sub.set_xticklabels([])\n",
    "    sub.set_yticklabels([])\n",
    "    sub.set_ylim(ranges[1]) \n",
    "\n",
    "    sub = fig.add_subplot(2,4,i+6)\n",
    "    sub.pcolormesh(Rmag_edges, fuvnuv_edges, 0.2 * np.sum(x_mod, axis=1).T,\n",
    "            vmin=1e-5, vmax=1e-2, norm=mpl.colors.LogNorm(), cmap='Oranges')\n",
    "    sub.set_xlabel(r'$M_r$', fontsize=20) \n",
    "    sub.set_xlim(20., 23) \n",
    "    sub.set_xticks([20., 21., 22., 23]) \n",
    "    sub.set_xticklabels([-20, -21, -22, -23]) \n",
    "    sub.set_ylim(ranges[2]) \n",
    "    sub.set_yticklabels([])"
   ]
  },
  {
   "cell_type": "code",
   "execution_count": 13,
   "metadata": {},
   "outputs": [],
   "source": [
    "def sim_observables_tauV_delta_fneb(tauV, delta, fneb, sim='simba'): \n",
    "    '''\n",
    "    '''\n",
    "    if sim == 'simba': \n",
    "        sed = sim_sed.copy()\n",
    "    elif sim == 'tng': \n",
    "        sed = tng_sed.copy()\n",
    "        \n",
    "    #m_tau c_tau m_delta c_delta m_E c_E fneb\n",
    "    sed_dusty = dustFM.Attenuate(\n",
    "        np.array([0., tauV, 0., delta, 0., 0., fneb]), \n",
    "        sed['wave'], \n",
    "        sed['sed_noneb'], \n",
    "        sed['sed_onlyneb'], \n",
    "        sed['logmstar'],\n",
    "        sed['logsfr.100'],\n",
    "        dem='slab_noll_m') \n",
    "   \n",
    "    # observational measurements \n",
    "    F_mag = measureObs.AbsMag_sed(sim_sed['wave'], sed_dusty, band='galex_fuv') \n",
    "    N_mag = measureObs.AbsMag_sed(sim_sed['wave'], sed_dusty, band='galex_nuv') \n",
    "    G_mag = measureObs.AbsMag_sed(sim_sed['wave'], sed_dusty, band='g_sdss') \n",
    "    R_mag = measureObs.AbsMag_sed(sim_sed['wave'], sed_dusty, band='r_sdss') \n",
    "    \n",
    "    FUV_NUV = F_mag - N_mag \n",
    "    print('%f < FUV_NUV < %f' % (FUV_NUV.min(), FUV_NUV.max()))\n",
    "    \n",
    "    G_R = G_mag - R_mag\n",
    "    print('%f < G-R < %f' % (G_R.min(), G_R.max()))\n",
    "\n",
    "    data_vector = np.array([-1.*R_mag, G_R, FUV_NUV]).T\n",
    "    Nbins, _ = np.histogramdd(data_vector, bins=nbins, range=ranges)\n",
    "    \n",
    "    # volume of simulation \n",
    "    vol = {'simba': 100.**3, 'tng': 75.**3}[sim]  \n",
    "\n",
    "    x_model = Nbins.astype(float) / vol / dRmag / dGR / dfuvnuv\n",
    "    return x_model"
   ]
  },
  {
   "cell_type": "code",
   "execution_count": 16,
   "metadata": {},
   "outputs": [
    {
     "name": "stdout",
     "output_type": "stream",
     "text": [
      "-0.470643 < FUV_NUV < 3.707591\n",
      "-0.026642 < G-R < 1.154191\n",
      "-0.628544 < FUV_NUV < 3.685193\n",
      "-0.012980 < G-R < 0.816039\n",
      "-0.738229 < FUV_NUV < 3.712330\n",
      "-0.001664 < G-R < 0.788508\n"
     ]
    },
    {
     "data": {
      "image/png": "[encoded data removed]",
      "text/plain": [
       "<Figure size 1080x720 with 8 Axes>"
      ]
     },
     "metadata": {
      "needs_background": "light"
     },
     "output_type": "display_data"
    }
   ],
   "source": [
    "fnebs = [1., 2., 5.]\n",
    "fig = plt.figure(figsize=(15,10))\n",
    "\n",
    "sub = fig.add_subplot(241)\n",
    "sub.pcolormesh(Rmag_edges, GR_edges, 0.5 * np.sum(x_obs, axis=2).T,\n",
    "        vmin=1e-5, vmax=1e-2, norm=mpl.colors.LogNorm(), cmap='Greys')\n",
    "sub.text(0.95, 0.95, r'SDSS', ha='right', va='top', transform=sub.transAxes, fontsize=25)\n",
    "sub.set_xlim(20., 23) \n",
    "sub.set_xticks([20., 21., 22., 23]) \n",
    "sub.set_ylabel(r'$g - r$', fontsize=20) \n",
    "#sub.set_ylabel(r'$\\log (H_\\alpha/H_\\beta)/(H_\\alpha/H_\\beta)_I$', fontsize=20) \n",
    "sub.set_ylim(ranges[1]) \n",
    "\n",
    "sub = fig.add_subplot(245)\n",
    "sub.pcolormesh(Rmag_edges, fuvnuv_edges, 0.2 * np.sum(x_obs, axis=1).T,\n",
    "        vmin=1e-5, vmax=1e-2, norm=mpl.colors.LogNorm(), cmap='Greys')\n",
    "sub.set_xlabel(r'$M_r$', fontsize=20) \n",
    "sub.set_xlim(20., 23) \n",
    "sub.set_xticks([20., 21., 22., 23]) \n",
    "sub.set_xticklabels([-20, -21, -22, -23]) \n",
    "sub.set_ylabel(r'$FUV - NUV$', fontsize=20) \n",
    "sub.set_ylim(ranges[2]) \n",
    "\n",
    "for i, fneb in enumerate(fnebs):\n",
    "    sub = fig.add_subplot(2,4,i+2)\n",
    "    x_mod = sim_observables_tauV_delta_fneb(1., 1., fneb, sim='simba')\n",
    "    sub.pcolormesh(Rmag_edges, GR_edges, dfuvnuv * np.sum(x_mod, axis=2).T, \n",
    "            vmin=1e-5, vmax=1e-2, norm=mpl.colors.LogNorm(), cmap='Oranges')\n",
    "    sub.text(0.95, 0.95, r'$f_{\\rm neb}=%.f$' % fneb, ha='right', va='top', transform=sub.transAxes, fontsize=25)\n",
    "    sub.set_xlim(20., 23) \n",
    "    sub.set_xticks([20., 21., 22., 23]) \n",
    "    sub.set_xticklabels([])\n",
    "    sub.set_yticklabels([])\n",
    "    sub.set_ylim(ranges[1]) \n",
    "\n",
    "    sub = fig.add_subplot(2,4,i+6)\n",
    "    sub.pcolormesh(Rmag_edges, fuvnuv_edges, 0.2 * np.sum(x_mod, axis=1).T,\n",
    "            vmin=1e-5, vmax=1e-2, norm=mpl.colors.LogNorm(), cmap='Oranges')\n",
    "    sub.set_xlabel(r'$M_r$', fontsize=20) \n",
    "    sub.set_xlim(20., 23) \n",
    "    sub.set_xticks([20., 21., 22., 23]) \n",
    "    sub.set_xticklabels([-20, -21, -22, -23]) \n",
    "    sub.set_ylim(ranges[2]) \n",
    "    sub.set_yticklabels([])"
   ]
  },
  {
   "cell_type": "code",
   "execution_count": null,
   "metadata": {},
   "outputs": [],
   "source": []
  }
 ],
 "metadata": {
  "kernelspec": {
   "display_name": "Python 3",
   "language": "python",
   "name": "python3"
  },
  "language_info": {
   "codemirror_mode": {
    "name": "ipython",
    "version": 3
   },
   "file_extension": ".py",
   "mimetype": "text/x-python",
   "name": "python",
   "nbconvert_exporter": "python",
   "pygments_lexer": "ipython3",
   "version": "3.7.3"
  }
 },
 "nbformat": 4,
 "nbformat_minor": 2
}
