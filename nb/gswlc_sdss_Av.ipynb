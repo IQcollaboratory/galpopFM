{
 "cells": [
  {
   "cell_type": "code",
   "execution_count": 1,
   "metadata": {},
   "outputs": [],
   "source": [
    "import os\n",
    "import numpy as np\n",
    "from astropy.table import Table\n",
    "from astropy.io import fits"
   ]
  },
  {
   "cell_type": "code",
   "execution_count": 3,
   "metadata": {},
   "outputs": [],
   "source": [
    "# -- plotting --\n",
    "import matplotlib as mpl\n",
    "import matplotlib.pyplot as plt \n",
    "import corner as dfm\n",
    "import matplotlib.patches as mpatches\n",
    "mpl.rcParams['text.usetex'] = True\n",
    "mpl.rcParams['font.family'] = 'serif'\n",
    "mpl.rcParams['axes.linewidth'] = 1.5\n",
    "mpl.rcParams['axes.xmargin'] = 1\n",
    "mpl.rcParams['xtick.labelsize'] = 'x-large'\n",
    "mpl.rcParams['xtick.major.size'] = 5\n",
    "mpl.rcParams['xtick.major.width'] = 1.5\n",
    "mpl.rcParams['ytick.labelsize'] = 'x-large'\n",
    "mpl.rcParams['ytick.major.size'] = 5\n",
    "mpl.rcParams['ytick.major.width'] = 1.5\n",
    "mpl.rcParams['legend.frameon'] = False"
   ]
  },
  {
   "cell_type": "code",
   "execution_count": 2,
   "metadata": {},
   "outputs": [],
   "source": [
    "# read GSWLC data: https://salims.pages.iu.edu/gswlc/#catalog-download\n",
    "# data column details: https://salims.pages.iu.edu/gswlc/table2.pdf\n",
    "#fgswlc = os.path.join(os.environ['GALPOPFM_DIR'], 'obs', 'GSWLC-M2.dat')\n",
    "#gswlc = np.loadtxt(fgswlc, unpack=True)\n",
    "gswlc = np.loadtxt('/Users/tjitske/Documents/Projects/QuenchedIsolatedGalaxiesWorkshop/GSWLC-M2.dat', unpack = True)"
   ]
  },
  {
   "cell_type": "code",
   "execution_count": 4,
   "metadata": {},
   "outputs": [],
   "source": [
    "logm = gswlc[9]\n",
    "logsfr = gswlc[11]\n",
    "logssfr = logsfr-logm\n",
    "Av = gswlc[17]\n",
    "sdssmain = gswlc[23]\n",
    "plateid = gswlc[2]\n",
    "fiberid = gswlc[4]\n",
    "mjd = gswlc[3]\n",
    "photoid = gswlc[0]"
   ]
  },
  {
   "cell_type": "code",
   "execution_count": 5,
   "metadata": {},
   "outputs": [],
   "source": [
    "has_Av = (Av != -99.)\n",
    "mlim = (logm > 10.)\n",
    "sdss = (sdssmain == 1)\n",
    "\n",
    "cuts = has_Av & mlim & sdss\n",
    "\n",
    "is_q = (logsfr < logm - 11.5)\n",
    "is_sf = (logsfr > logm - 11.5)"
   ]
  },
  {
   "cell_type": "code",
   "execution_count": 6,
   "metadata": {},
   "outputs": [
    {
     "name": "stdout",
     "output_type": "stream",
     "text": [
      "number of spectra in catalog:  927552 number of galaxy spectra:  925892\n"
     ]
    }
   ],
   "source": [
    "hdu = fits.open('/Users/tjitske/Documents/Projects/QuenchedIsolatedGalaxiesWorkshop/SDSSspectra/gal_info_dr7_v5_2.fit')\n",
    "tab = hdu[1].data\n",
    "t = Table([tab['plateid'], tab['spectrotype'], tab['fiberid'], tab['Z'], tab['mjd'], tab['photoid']],\n",
    "              names = ('plateID', 'spectrotype','fiberID','redshift', 'MJD', 'photoID'))\n",
    "select = (t['spectrotype'] == 'GALAXY')\n",
    "print 'number of spectra in catalog: ', len(select), 'number of galaxy spectra: ', np.sum(select)\n",
    "tselect = t[select]\n",
    "\n",
    "hdu_class = fits.open('/Users/tjitske/Documents/Projects/QuenchedIsolatedGalaxiesWorkshop/SDSSspectra/gal_iclass_dr7_v5_2.fits')\n",
    "classes = hdu_class[0].data\n",
    "classes = classes[select]\n",
    "\n",
    "hdu_indx = fits.open('/Users/tjitske/Documents/Projects/QuenchedIsolatedGalaxiesWorkshop/SDSSspectra/gal_indx_dr7_v5_2.fit')\n",
    "tab_indx = hdu_indx[1].data\n",
    "t_indx = Table([tab_indx['plateid'],tab_indx['fiberid'],tab_indx['tauv_cont'],tab_indx['model_chisq']], names = ('plateID','fiberID','tauV','chisq'))\n",
    "tindx = t_indx[select]"
   ]
  },
  {
   "cell_type": "code",
   "execution_count": 7,
   "metadata": {},
   "outputs": [
    {
     "name": "stdout",
     "output_type": "stream",
     "text": [
      "number of SF galaxies with z < 0.3: 202014\n"
     ]
    }
   ],
   "source": [
    "sdss_SF_z03 = np.logical_and(classes == 1, tselect['redshift'] < 0.3)\n",
    "print 'number of SF galaxies with z < 0.3:', np.sum(sdss_SF_z03)"
   ]
  },
  {
   "cell_type": "code",
   "execution_count": 8,
   "metadata": {},
   "outputs": [
    {
     "name": "stdout",
     "output_type": "stream",
     "text": [
      "need to match mjd too\n",
      "need to match mjd too\n",
      "need to match mjd too\n",
      "need to match mjd too\n",
      "need to match mjd too\n",
      "need to match mjd too\n",
      "need to match mjd too\n",
      "need to match mjd too\n",
      "need to match mjd too\n",
      "need to match mjd too\n",
      "need to match mjd too\n",
      "need to match mjd too\n",
      "need to match mjd too\n",
      "need to match mjd too\n",
      "need to match mjd too\n",
      "need to match mjd too\n",
      "need to match mjd too\n",
      "need to match mjd too\n",
      "need to match mjd too\n",
      "need to match mjd too\n",
      "need to match mjd too\n",
      "need to match mjd too\n",
      "need to match mjd too\n",
      "need to match mjd too\n",
      "need to match mjd too\n",
      "need to match mjd too\n",
      "need to match mjd too\n",
      "number of SF galaxies with z < 0.3 in both MAP-JHU and GSWLC-2:  81540 81540\n"
     ]
    }
   ],
   "source": [
    "gswlc_SF_Av = []\n",
    "mpajhu_SF_Av = []\n",
    "for i in range(np.sum(sdss_SF_z03)):\n",
    "    assert tindx['plateID'][sdss_SF_z03][i] == tselect['plateID'][sdss_SF_z03][i]\n",
    "    assert tindx['fiberID'][sdss_SF_z03][i] == tselect['fiberID'][sdss_SF_z03][i]\n",
    "    inGSWLC = np.logical_and(plateid == tselect['plateID'][sdss_SF_z03][i], fiberid == tselect['fiberID'][sdss_SF_z03][i])\n",
    "    if np.sum(inGSWLC) == 1:\n",
    "        gswlc_SF_Av.append(Av[inGSWLC])\n",
    "        mpajhu_SF_Av.append(tindx['tauV'][sdss_SF_z03][i]*1.086)\n",
    "    #elif np.sum(inGSWLC) == 0:\n",
    "    #    print i, 'not in GSWLC??', tselect['plateID'][i], tselect['fiberID'][i]\n",
    "    elif np.sum(inGSWLC) > 1:\n",
    "        print 'need to match mjd too'\n",
    "        inGSWLC2 = np.logical_and(inGSWLC, mjd == tselect['MJD'][sdss_SF_z03][i])\n",
    "        if np.sum(inGSWLC2) == 1:\n",
    "            gswlc_SF_Av.append(Av[inGSWLC2])\n",
    "            mpajhu_SF_Av.append(tindx['tauV'][sdss_SF_z03][i]*1.086)\n",
    "        elif np.sum(inGSWLC2) > 1:\n",
    "            print 'problem matching'\n",
    "print 'number of SF galaxies with z < 0.3 in both MAP-JHU and GSWLC-2: ', len(gswlc_SF_Av), len(mpajhu_SF_Av)"
   ]
  },
  {
   "cell_type": "code",
   "execution_count": 46,
   "metadata": {},
   "outputs": [],
   "source": [
    "gswlc_SF_Av = np.reshape(np.asarray(gswlc_SF_Av), (len(gswlc_SF_Av),))\n",
    "mpajhu_SF_Av = np.asarray(mpajhu_SF_Av)"
   ]
  },
  {
   "cell_type": "code",
   "execution_count": 47,
   "metadata": {},
   "outputs": [
    {
     "name": "stdout",
     "output_type": "stream",
     "text": [
      "[0.29  0.358 0.155 0.192 0.595 0.225 0.462 0.28  0.229 0.31 ] [0.03099965 0.82148172 2.23849287 2.00870892 1.71122358 1.60446346\n",
      " 1.05924132 1.00207711 1.13319408 1.33591104]\n",
      "0.155 0.3096 0.28500000000000003 0.595\n",
      "0.030999653186649087 1.294579375287518 1.2345525562763213 2.238492871284485\n"
     ]
    }
   ],
   "source": [
    "print gswlc_SF_Av[0:10], mpajhu_SF_Av[0:10]\n",
    "print np.min(gswlc_SF_Av[0:10]), np.mean(gswlc_SF_Av[0:10]), np.median(gswlc_SF_Av[0:10]), np.max(gswlc_SF_Av[0:10])\n",
    "print np.min(mpajhu_SF_Av[0:10]), np.mean(mpajhu_SF_Av[0:10]), np.median(mpajhu_SF_Av[0:10]), np.max(mpajhu_SF_Av[0:10])"
   ]
  },
  {
   "cell_type": "code",
   "execution_count": 49,
   "metadata": {},
   "outputs": [
    {
     "data": {
      "text/plain": [
       "(-1, 3)"
      ]
     },
     "execution_count": 49,
     "metadata": {},
     "output_type": "execute_result"
    },
    {
     "data": {
      "image/png": "[encoded data removed]",
      "text/plain": [
       "<Figure size 576x432 with 1 Axes>"
      ]
     },
     "metadata": {
      "needs_background": "light"
     },
     "output_type": "display_data"
    }
   ],
   "source": [
    "fig, ax = plt.subplots(1,1,figsize = [8,6])\n",
    "ax.hist(gswlc_SF_Av, bins = 30, density = True, alpha = 0.5, range = [-1,2.3], label = 'GSWLC')\n",
    "ax.hist(mpajhu_SF_Av, bins = 30, density = True, alpha = 0.5, range = [-1,2.3], label = 'MPA-JHU')\n",
    "ax.legend()\n",
    "ax.set_xlim(0,4)"
   ]
  },
  {
   "cell_type": "code",
   "execution_count": 68,
   "metadata": {},
   "outputs": [
    {
     "name": "stdout",
     "output_type": "stream",
     "text": [
      "12344\n",
      "0\n",
      "1000\n",
      "2000\n",
      "3000\n",
      "4000\n",
      "5000\n",
      "6000\n",
      "7000\n",
      "8000\n",
      "9000\n",
      "10000\n",
      "11000\n",
      "12000\n",
      "number of galaxies from Tinker sample in both MAP-JHU and GSWLC:  5834 5834 5834\n"
     ]
    }
   ],
   "source": [
    "import h5py as h5\n",
    "f = h5.File('/Users/tjitske/Documents/Projects/QuenchedIsolatedGalaxiesWorkshop/DATA/tinker_SDSS_centrals_M9.7.valueadd.hdf5','r')\n",
    "av_nsa = f['AV'][:]\n",
    "nsa_plateid = f['PLATE'][:]\n",
    "nsa_fiberid = f['FIBERID'][:]\n",
    "nsa_MJD = f['MJD'][:]\n",
    "f.close()\n",
    "print av_nsa.size\n",
    "\n",
    "av_nsa_match = []\n",
    "av_gswlc = []\n",
    "av_mpajhu = []\n",
    "for i in range(av_nsa.size):\n",
    "    inGSWLC = (plateid == nsa_plateid[i]) & (fiberid == nsa_fiberid[i]) & (mjd == nsa_MJD[i])\n",
    "    inMPAJHU = (t['plateID'][:] == nsa_plateid[i]) & (t['fiberID'][:] == nsa_fiberid[i]) & (t['MJD'][:] == nsa_MJD[i])\n",
    "    #if np.sum(inGSWLC) == 0 or np.sum(inMPAJHU) == 0:\n",
    "        #print i, nsa_plateid[i], nsa_fiberid[i]\n",
    "    #else:\n",
    "    if np.sum(inGSWLC) > 0 and np.sum(inMPAJHU) > 0:\n",
    "        #print nsa_plateid[i], plateid[inGSWLC][0], tselect['plateID'][inMPAJHU][0]\n",
    "        #print nsa_fiberid[i], fiberid[inGSWLC][0], tselect['fiberID'][inMPAJHU][0]\n",
    "        av_nsa_match.append(av_nsa[i])\n",
    "        if np.sum(inGSWLC) == 1:\n",
    "            av_gswlc.append(Av[inGSWLC][0])\n",
    "        elif np.sum(inGSWLC) > 1:\n",
    "            print 'problem matching to GSWLC'\n",
    "        if np.sum(inMPAJHU) == 1:\n",
    "            av_mpajhu.append(t_indx['tauV'][inMPAJHU][0]*1.086)\n",
    "        elif np.sum(inMPAJHU) > 1:\n",
    "            print 'problem matching to MPAJHU'\n",
    "    if i % 1000 == 0: print i\n",
    "    #elif np.sum(inGSWLC) == 0:\n",
    "    #    print i, 'not in GSWLC??', tselect['plateID'][i], tselect['fiberID'][i]\n",
    "    \n",
    "print 'number of galaxies from Tinker sample in both MAP-JHU and GSWLC: ', len(av_nsa_match), len(av_gswlc), len(av_mpajhu)\n",
    "    \n",
    "av_gswlc = np.reshape(np.asarray(av_gswlc), (len(av_gswlc),))\n",
    "av_mpajhu = np.asarray(av_mpajhu)\n"
   ]
  },
  {
   "cell_type": "code",
   "execution_count": 69,
   "metadata": {},
   "outputs": [
    {
     "data": {
      "text/plain": [
       "(-1, 3)"
      ]
     },
     "execution_count": 69,
     "metadata": {},
     "output_type": "execute_result"
    },
    {
     "data": {
      "image/png": "[encoded data removed]",
      "text/plain": [
       "<Figure size 576x432 with 1 Axes>"
      ]
     },
     "metadata": {
      "needs_background": "light"
     },
     "output_type": "display_data"
    }
   ],
   "source": [
    "\n",
    "fig, ax = plt.subplots(1,1,figsize = [8,6])\n",
    "ax.hist(av_nsa_match, bins = 30, alpha = 0.5, range = [-1,3], label = 'NSA')\n",
    "ax.hist(av_gswlc, bins = 30, alpha = 0.5, range = [-1,3], label = 'GSWLC')\n",
    "ax.hist(av_mpajhu, bins = 30, alpha = 0.5, range = [-1,3], label = 'MPA-JHU')\n",
    "ax.legend()\n",
    "ax.set_xlim(-1,3)"
   ]
  },
  {
   "cell_type": "code",
   "execution_count": null,
   "metadata": {},
   "outputs": [],
   "source": []
  }
 ],
 "metadata": {
  "kernelspec": {
   "display_name": "Python 2",
   "language": "python",
   "name": "python2"
  },
  "language_info": {
   "codemirror_mode": {
    "name": "ipython",
    "version": 2
   },
   "file_extension": ".py",
   "mimetype": "text/x-python",
   "name": "python",
   "nbconvert_exporter": "python",
   "pygments_lexer": "ipython2",
   "version": "2.7.16"
  }
 },
 "nbformat": 4,
 "nbformat_minor": 4
}
