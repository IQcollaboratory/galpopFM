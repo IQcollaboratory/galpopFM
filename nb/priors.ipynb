{
 "cells": [
  {
   "cell_type": "markdown",
   "metadata": {},
   "source": [
    "So far we have used flat (\"uninformative\") priors for all our parameters. For instance, in our model we parameterize\n",
    "\n",
    "$$\\tau_V = m_{\\tau, 1} \\log \\left(\\frac{M_*}{10^{10}M_\\odot}\\right) + m_{\\tau, 2}\\log {\\rm SFR} + c_\\tau$$\n",
    "\n",
    "and use flat priors for $m_{\\tau,1}, m_{\\tau,2}, c_\\tau$. However, I think this means that **we do not have a flat prior on $\\tau_V$**. Does the fact that $M_*$ and ${\\rm SFR}$ vary matter? "
   ]
  },
  {
   "cell_type": "code",
   "execution_count": 1,
   "metadata": {},
   "outputs": [],
   "source": [
    "import numpy as np\n",
    "# -- plotting --\n",
    "import matplotlib as mpl\n",
    "import matplotlib.pyplot as plt \n",
    "mpl.rcParams['text.usetex'] = True\n",
    "mpl.rcParams['font.family'] = 'serif'\n",
    "mpl.rcParams['axes.linewidth'] = 1.5\n",
    "mpl.rcParams['axes.xmargin'] = 1\n",
    "mpl.rcParams['xtick.labelsize'] = 'x-large'\n",
    "mpl.rcParams['xtick.major.size'] = 5\n",
    "mpl.rcParams['xtick.major.width'] = 1.5\n",
    "mpl.rcParams['ytick.labelsize'] = 'x-large'\n",
    "mpl.rcParams['ytick.major.size'] = 5\n",
    "mpl.rcParams['ytick.major.width'] = 1.5\n",
    "mpl.rcParams['legend.frameon'] = False"
   ]
  },
  {
   "cell_type": "code",
   "execution_count": 15,
   "metadata": {},
   "outputs": [],
   "source": [
    "Nsample = 10000\n",
    "m1 = np.random.uniform(-5., 5., size=Nsample)\n",
    "m2 = np.random.uniform(-5., 5., size=Nsample)\n",
    "c = np.random.uniform(0, 6, size=Nsample)"
   ]
  },
  {
   "cell_type": "code",
   "execution_count": 32,
   "metadata": {},
   "outputs": [
    {
     "data": {
      "text/plain": [
       "Text(0.5, 0, '$c_{\\\\tau}$')"
      ]
     },
     "execution_count": 32,
     "metadata": {},
     "output_type": "execute_result"
    },
    {
     "data": {
      "image/png": "[encoded data removed]",
      "text/plain": [
       "<Figure size 1080x360 with 3 Axes>"
      ]
     },
     "metadata": {
      "needs_background": "light"
     },
     "output_type": "display_data"
    }
   ],
   "source": [
    "fig = plt.figure(figsize=(15,5))\n",
    "sub = fig.add_subplot(131)\n",
    "_ = sub.hist(m1, range=(-10, 10), bins=20, density=True)\n",
    "sub.set_xlabel(r'$m_{\\tau,1}$', fontsize=25)\n",
    "sub.set_xlim(-10, 10)\n",
    "sub = fig.add_subplot(132)\n",
    "_ = sub.hist(m2, range=(-10, 10), bins=20, density=True)\n",
    "sub.set_xlabel(r'$m_{\\tau,2}$', fontsize=25)\n",
    "sub.set_xlim(-10, 10)\n",
    "sub = fig.add_subplot(133)\n",
    "_ = sub.hist(c, range=(-10, 10), bins=20, density=True)\n",
    "sub.set_xlim(-10, 10)\n",
    "sub.set_xlabel(r'$c_{\\tau}$', fontsize=25)"
   ]
  },
  {
   "cell_type": "code",
   "execution_count": 18,
   "metadata": {},
   "outputs": [],
   "source": [
    "def tauv(ms, sfr): \n",
    "    return m1 * (ms - 10) + m2 * sfr + c"
   ]
  },
  {
   "cell_type": "code",
   "execution_count": 38,
   "metadata": {},
   "outputs": [
    {
     "data": {
      "text/plain": [
       "(-20.0, 20.0)"
      ]
     },
     "execution_count": 38,
     "metadata": {},
     "output_type": "execute_result"
    },
    {
     "data": {
      "image/png": "[encoded data removed]",
      "text/plain": [
       "<Figure size 720x360 with 1 Axes>"
      ]
     },
     "metadata": {
      "needs_background": "light"
     },
     "output_type": "display_data"
    }
   ],
   "source": [
    "fig = plt.figure(figsize=(10,5))\n",
    "sub = fig.add_subplot(111)\n",
    "for _ms, _sfr in zip([9., 10., 11.], [1., 0., -0.5]):\n",
    "    _ = sub.hist(tauv(_ms, _sfr), range=(-20, 20), bins=40, density=True, alpha=0.5, \n",
    "                 label=r'$\\log M_*=%.1f, \\log {\\rm SFR} = %.1f$' % (_ms, _sfr))\n",
    "sub.legend(loc='upper left', fontsize=15)\n",
    "sub.set_xlabel(r'$\\tau_V$', fontsize=25)\n",
    "sub.set_xlim(-20, 20)"
   ]
  },
  {
   "cell_type": "code",
   "execution_count": null,
   "metadata": {},
   "outputs": [],
   "source": []
  }
 ],
 "metadata": {
  "kernelspec": {
   "display_name": "Python 3",
   "language": "python",
   "name": "python3"
  },
  "language_info": {
   "codemirror_mode": {
    "name": "ipython",
    "version": 3
   },
   "file_extension": ".py",
   "mimetype": "text/x-python",
   "name": "python",
   "nbconvert_exporter": "python",
   "pygments_lexer": "ipython3",
   "version": "3.7.6"
  }
 },
 "nbformat": 4,
 "nbformat_minor": 4
}
